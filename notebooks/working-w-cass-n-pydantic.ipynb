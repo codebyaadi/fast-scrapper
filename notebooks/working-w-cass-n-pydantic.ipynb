{
 "cells": [
  {
   "cell_type": "code",
   "execution_count": 7,
   "metadata": {},
   "outputs": [
    {
     "name": "stdout",
     "output_type": "stream",
     "text": [
      "/home/dark/fast-scrapper\n"
     ]
    }
   ],
   "source": [
    "cd / home / dark / fast - scrapper"
   ]
  },
  {
   "cell_type": "code",
   "execution_count": 8,
   "metadata": {},
   "outputs": [
    {
     "name": "stdout",
     "output_type": "stream",
     "text": [
      "/home/dark/fast-scrapper\n"
     ]
    }
   ],
   "source": [
    "!pwd"
   ]
  },
  {
   "cell_type": "code",
   "execution_count": 9,
   "metadata": {},
   "outputs": [
    {
     "name": "stderr",
     "output_type": "stream",
     "text": [
      "INFO:root:Successfully created a cluster connection.\n",
      "WARNING:cassandra.cluster:Downgrading core protocol version from 66 to 65 for b8b9fdaa-ae2a-450a-abb2-c0cd6d436f52-us-east-2.db.astra.datastax.com:29042:678e6a1d-e5b1-3cba-b949-7bfaf823957f. To avoid this, it is best practice to explicitly set Cluster(protocol_version) to the version supported by your cluster. http://datastax.github.io/python-driver/api/cassandra/cluster.html#cassandra.cluster.Cluster.protocol_version\n",
      "WARNING:cassandra.cluster:Downgrading core protocol version from 65 to 5 for b8b9fdaa-ae2a-450a-abb2-c0cd6d436f52-us-east-2.db.astra.datastax.com:29042:678e6a1d-e5b1-3cba-b949-7bfaf823957f. To avoid this, it is best practice to explicitly set Cluster(protocol_version) to the version supported by your cluster. http://datastax.github.io/python-driver/api/cassandra/cluster.html#cassandra.cluster.Cluster.protocol_version\n",
      "WARNING:cassandra.cluster:Downgrading core protocol version from 5 to 4 for b8b9fdaa-ae2a-450a-abb2-c0cd6d436f52-us-east-2.db.astra.datastax.com:29042:678e6a1d-e5b1-3cba-b949-7bfaf823957f. To avoid this, it is best practice to explicitly set Cluster(protocol_version) to the version supported by your cluster. http://datastax.github.io/python-driver/api/cassandra/cluster.html#cassandra.cluster.Cluster.protocol_version\n",
      "INFO:cassandra.policies:Using datacenter 'us-east-2' for DCAwareRoundRobinPolicy (via host 'b8b9fdaa-ae2a-450a-abb2-c0cd6d436f52-us-east-2.db.astra.datastax.com:29042:678e6a1d-e5b1-3cba-b949-7bfaf823957f'); if incorrect, please specify a local_dc to the constructor, or limit contact points to local cluster nodes\n",
      "WARNING:cassandra.cluster:[control connection] Error connecting to b8b9fdaa-ae2a-450a-abb2-c0cd6d436f52-us-east-2.db.astra.datastax.com:29042:678e6a1d-e5b1-3cba-b949-7bfaf823957f:\n",
      "Traceback (most recent call last):\n",
      "  File \"cassandra/cluster.py\", line 3577, in cassandra.cluster.ControlConnection._reconnect_internal\n",
      "  File \"cassandra/cluster.py\", line 3654, in cassandra.cluster.ControlConnection._try_connect\n",
      "  File \"cassandra/cluster.py\", line 3651, in cassandra.cluster.ControlConnection._try_connect\n",
      "  File \"cassandra/cluster.py\", line 3753, in cassandra.cluster.ControlConnection._refresh_schema\n",
      "  File \"cassandra/metadata.py\", line 140, in cassandra.metadata.Metadata.refresh\n",
      "  File \"cassandra/metadata.py\", line 163, in cassandra.metadata.Metadata._rebuild_all\n",
      "  File \"cassandra/metadata.py\", line 2868, in get_all_keyspaces\n",
      "  File \"cassandra/metadata.py\", line 2518, in get_all_keyspaces\n",
      "  File \"cassandra/metadata.py\", line 2027, in get_all_keyspaces\n",
      "  File \"cassandra/metadata.py\", line 2807, in cassandra.metadata.SchemaParserV4._query_all\n",
      "  File \"cassandra/connection.py\", line 1126, in cassandra.connection.Connection.wait_for_responses\n",
      "  File \"cassandra/connection.py\", line 1124, in cassandra.connection.Connection.wait_for_responses\n",
      "  File \"cassandra/connection.py\", line 1636, in cassandra.connection.ResponseWaiter.deliver\n",
      "cassandra.OperationTimedOut: errors=None, last_host=None\n",
      "WARNING:cassandra.cluster:[control connection] Error connecting to b8b9fdaa-ae2a-450a-abb2-c0cd6d436f52-us-east-2.db.astra.datastax.com:29042:b4f6d9ed-0f1d-3f7a-82f1-a4a7ea4f84d4:\n",
      "Traceback (most recent call last):\n",
      "  File \"cassandra/cluster.py\", line 3577, in cassandra.cluster.ControlConnection._reconnect_internal\n",
      "  File \"cassandra/cluster.py\", line 3654, in cassandra.cluster.ControlConnection._try_connect\n",
      "  File \"cassandra/cluster.py\", line 3651, in cassandra.cluster.ControlConnection._try_connect\n",
      "  File \"cassandra/cluster.py\", line 3753, in cassandra.cluster.ControlConnection._refresh_schema\n",
      "  File \"cassandra/metadata.py\", line 140, in cassandra.metadata.Metadata.refresh\n",
      "  File \"cassandra/metadata.py\", line 163, in cassandra.metadata.Metadata._rebuild_all\n",
      "  File \"cassandra/metadata.py\", line 2868, in get_all_keyspaces\n",
      "  File \"cassandra/metadata.py\", line 2518, in get_all_keyspaces\n",
      "  File \"cassandra/metadata.py\", line 2027, in get_all_keyspaces\n",
      "  File \"cassandra/metadata.py\", line 2807, in cassandra.metadata.SchemaParserV4._query_all\n",
      "  File \"cassandra/connection.py\", line 1126, in cassandra.connection.Connection.wait_for_responses\n",
      "  File \"cassandra/connection.py\", line 1124, in cassandra.connection.Connection.wait_for_responses\n",
      "  File \"cassandra/connection.py\", line 1636, in cassandra.connection.ResponseWaiter.deliver\n",
      "cassandra.OperationTimedOut: errors=None, last_host=None\n",
      "INFO:root:Session created successfully.\n"
     ]
    }
   ],
   "source": [
    "from app import crud, db"
   ]
  },
  {
   "cell_type": "code",
   "execution_count": 10,
   "metadata": {},
   "outputs": [
    {
     "name": "stderr",
     "output_type": "stream",
     "text": [
      "INFO:root:Successfully created a cluster connection.\n",
      "WARNING:cassandra.cluster:Downgrading core protocol version from 66 to 65 for b8b9fdaa-ae2a-450a-abb2-c0cd6d436f52-us-east-2.db.astra.datastax.com:29042:190dafab-6970-3a67-a21c-1226360de7dc. To avoid this, it is best practice to explicitly set Cluster(protocol_version) to the version supported by your cluster. http://datastax.github.io/python-driver/api/cassandra/cluster.html#cassandra.cluster.Cluster.protocol_version\n",
      "WARNING:cassandra.cluster:Downgrading core protocol version from 65 to 5 for b8b9fdaa-ae2a-450a-abb2-c0cd6d436f52-us-east-2.db.astra.datastax.com:29042:190dafab-6970-3a67-a21c-1226360de7dc. To avoid this, it is best practice to explicitly set Cluster(protocol_version) to the version supported by your cluster. http://datastax.github.io/python-driver/api/cassandra/cluster.html#cassandra.cluster.Cluster.protocol_version\n",
      "WARNING:cassandra.cluster:Downgrading core protocol version from 5 to 4 for b8b9fdaa-ae2a-450a-abb2-c0cd6d436f52-us-east-2.db.astra.datastax.com:29042:190dafab-6970-3a67-a21c-1226360de7dc. To avoid this, it is best practice to explicitly set Cluster(protocol_version) to the version supported by your cluster. http://datastax.github.io/python-driver/api/cassandra/cluster.html#cassandra.cluster.Cluster.protocol_version\n",
      "INFO:cassandra.policies:Using datacenter 'us-east-2' for DCAwareRoundRobinPolicy (via host 'b8b9fdaa-ae2a-450a-abb2-c0cd6d436f52-us-east-2.db.astra.datastax.com:29042:190dafab-6970-3a67-a21c-1226360de7dc'); if incorrect, please specify a local_dc to the constructor, or limit contact points to local cluster nodes\n",
      "INFO:root:Session created successfully.\n"
     ]
    }
   ],
   "source": [
    "session = db.get_session()"
   ]
  },
  {
   "cell_type": "code",
   "execution_count": 11,
   "metadata": {},
   "outputs": [],
   "source": [
    "from pydantic import BaseModel"
   ]
  },
  {
   "cell_type": "code",
   "execution_count": 12,
   "metadata": {},
   "outputs": [],
   "source": [
    "class ProductBaseModel(BaseModel):\n",
    "    asin: str\n",
    "    title: str"
   ]
  },
  {
   "cell_type": "code",
   "execution_count": null,
   "metadata": {},
   "outputs": [],
   "source": []
  }
 ],
 "metadata": {
  "kernelspec": {
   "display_name": "venv",
   "language": "python",
   "name": "python3"
  },
  "language_info": {
   "codemirror_mode": {
    "name": "ipython",
    "version": 3
   },
   "file_extension": ".py",
   "mimetype": "text/x-python",
   "name": "python",
   "nbconvert_exporter": "python",
   "pygments_lexer": "ipython3",
   "version": "3.12.3"
  }
 },
 "nbformat": 4,
 "nbformat_minor": 2
}
