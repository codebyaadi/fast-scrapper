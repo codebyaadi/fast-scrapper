{
 "cells": [
  {
   "cell_type": "code",
   "execution_count": 4,
   "metadata": {},
   "outputs": [
    {
     "name": "stdout",
     "output_type": "stream",
     "text": [
      "/home/dark/fast-scrapper\n"
     ]
    },
    {
     "name": "stderr",
     "output_type": "stream",
     "text": [
      "/home/dark/fast-scrapper/venv/lib/python3.12/site-packages/IPython/core/magics/osm.py:417: UserWarning: This is now an optional IPython functionality, setting dhist requires you to install the `pickleshare` library.\n",
      "  self.shell.db['dhist'] = compress_dhist(dhist)[-100:]\n"
     ]
    }
   ],
   "source": [
    "cd / home / dark / fast - scrapper"
   ]
  },
  {
   "cell_type": "code",
   "execution_count": 5,
   "metadata": {},
   "outputs": [
    {
     "name": "stdout",
     "output_type": "stream",
     "text": [
      "/home/dark/fast-scrapper\n"
     ]
    }
   ],
   "source": [
    "!pwd"
   ]
  },
  {
   "cell_type": "code",
   "execution_count": 6,
   "metadata": {},
   "outputs": [
    {
     "name": "stderr",
     "output_type": "stream",
     "text": [
      "WARNING:cassandra.cluster:Downgrading core protocol version from 66 to 65 for b8b9fdaa-ae2a-450a-abb2-c0cd6d436f52-us-east-2.db.astra.datastax.com:29042:00958fd0-af98-391f-9f51-7e3fe763da5c. To avoid this, it is best practice to explicitly set Cluster(protocol_version) to the version supported by your cluster. http://datastax.github.io/python-driver/api/cassandra/cluster.html#cassandra.cluster.Cluster.protocol_version\n",
      "WARNING:cassandra.cluster:Downgrading core protocol version from 65 to 5 for b8b9fdaa-ae2a-450a-abb2-c0cd6d436f52-us-east-2.db.astra.datastax.com:29042:00958fd0-af98-391f-9f51-7e3fe763da5c. To avoid this, it is best practice to explicitly set Cluster(protocol_version) to the version supported by your cluster. http://datastax.github.io/python-driver/api/cassandra/cluster.html#cassandra.cluster.Cluster.protocol_version\n",
      "WARNING:cassandra.cluster:Downgrading core protocol version from 5 to 4 for b8b9fdaa-ae2a-450a-abb2-c0cd6d436f52-us-east-2.db.astra.datastax.com:29042:00958fd0-af98-391f-9f51-7e3fe763da5c. To avoid this, it is best practice to explicitly set Cluster(protocol_version) to the version supported by your cluster. http://datastax.github.io/python-driver/api/cassandra/cluster.html#cassandra.cluster.Cluster.protocol_version\n"
     ]
    },
    {
     "name": "stdout",
     "output_type": "stream",
     "text": [
      "Added Product: Product <asin=TESTB01N5IB20Q>\n",
      "Added Scrape Event: ProductScrapeEvent <uuid=effff5ed-d024-11ef-9939-00155d8bfc4b>\n",
      "Added Product: Product <asin=TESTB07FZ8S74R>\n",
      "Added Scrape Event: ProductScrapeEvent <uuid=f06ae921-d024-11ef-b81e-00155d8bfc4b>\n",
      "Added Product: Product <asin=TESTB08N5WRWNW>\n",
      "Added Scrape Event: ProductScrapeEvent <uuid=f0adac14-d024-11ef-bdd0-00155d8bfc4b>\n",
      "Added Product: Product <asin=TESTB07XJ8C8F5>\n",
      "Added Scrape Event: ProductScrapeEvent <uuid=f0f3d84d-d024-11ef-81fc-00155d8bfc4b>\n",
      "Added Product: Product <asin=TESTB08J5F3G18>\n",
      "Added Scrape Event: ProductScrapeEvent <uuid=f137261a-d024-11ef-a337-00155d8bfc4b>\n",
      "Added Product: Product <asin=TESTB07PGL2N7J>\n",
      "Added Scrape Event: ProductScrapeEvent <uuid=f17cd56c-d024-11ef-940a-00155d8bfc4b>\n",
      "Added Product: Product <asin=TESTB07FZ8S74R>\n",
      "Added Scrape Event: ProductScrapeEvent <uuid=f1c1a831-d024-11ef-8fef-00155d8bfc4b>\n",
      "Added Product: Product <asin=TESTB08CFSZLQ4>\n",
      "Added Scrape Event: ProductScrapeEvent <uuid=f2061d79-d024-11ef-a72a-00155d8bfc4b>\n",
      "Added Product: Product <asin=TESTB07VGRJDFY>\n",
      "Added Scrape Event: ProductScrapeEvent <uuid=f24db4ba-d024-11ef-95a1-00155d8bfc4b>\n",
      "Added Product: Product <asin=TESTB08HR6ZBYJ>\n",
      "Added Scrape Event: ProductScrapeEvent <uuid=f292380a-d024-11ef-a81a-00155d8bfc4b>\n"
     ]
    }
   ],
   "source": [
    "import uuid\n",
    "from cassandra.cqlengine.management import sync_table\n",
    "from cassandra.cqlengine import connection\n",
    "from app.db import get_session\n",
    "from app.models import Product, ProductScrapeEvent, KEY_SPACE\n",
    "from app.crud import add_scrape_event\n",
    "\n",
    "# Create a session to database\n",
    "session = get_session()\n",
    "\n",
    "# Sync tables to ensure they exist in the database\n",
    "sync_table(Product)\n",
    "sync_table(ProductScrapeEvent)\n",
    "\n",
    "# Sample data to insert\n",
    "sample_data = [\n",
    "    {\n",
    "        \"asin\": \"TESTB01N5IB20Q\",\n",
    "        \"title\": \"Echo Dot (2nd Generation) - Smart speaker with Alexa\",\n",
    "        \"price_str\": \"49.99\",\n",
    "    },\n",
    "    {\n",
    "        \"asin\": \"TESTB07FZ8S74R\",\n",
    "        \"title\": \"Fire TV Stick 4K with Alexa Voice Remote\",\n",
    "        \"price_str\": \"39.99\",\n",
    "    },\n",
    "    {\"asin\": \"TESTB08N5WRWNW\", \"title\": \"Apple AirPods Pro\", \"price_str\": \"249.00\"},\n",
    "    {\n",
    "        \"asin\": \"TESTB07XJ8C8F5\",\n",
    "        \"title\": \"Samsung Galaxy S20 FE 5G Factory Unlocked\",\n",
    "        \"price_str\": \"699.99\",\n",
    "    },\n",
    "    {\n",
    "        \"asin\": \"TESTB08J5F3G18\",\n",
    "        \"title\": \"Sony WH-1000XM4 Wireless Noise Canceling Headphones\",\n",
    "        \"price_str\": \"348.00\",\n",
    "    },\n",
    "    {\n",
    "        \"asin\": \"TESTB07PGL2N7J\",\n",
    "        \"title\": \"Instant Pot Duo 7-in-1 Electric Pressure Cooker\",\n",
    "        \"price_str\": \"89.00\",\n",
    "    },\n",
    "    {\n",
    "        \"asin\": \"TESTB07FZ8S74R\",\n",
    "        \"title\": 'Fire HD 10 Tablet (10.1\" 1080p full HD display)',\n",
    "        \"price_str\": \"149.99\",\n",
    "    },\n",
    "    {\"asin\": \"TESTB08CFSZLQ4\", \"title\": \"PlayStation 5 Console\", \"price_str\": \"499.99\"},\n",
    "    {\n",
    "        \"asin\": \"TESTB07VGRJDFY\",\n",
    "        \"title\": \"Nintendo Switch Lite - Turquoise\",\n",
    "        \"price_str\": \"199.99\",\n",
    "    },\n",
    "    {\n",
    "        \"asin\": \"TESTB08HR6ZBYJ\",\n",
    "        \"title\": \"Fitbit Charge 4 Fitness and Activity Tracker\",\n",
    "        \"price_str\": \"149.95\",\n",
    "    },\n",
    "]\n",
    "\n",
    "\n",
    "# Add sample data to the database\n",
    "def add_sample_data():\n",
    "    for data in sample_data:\n",
    "        product, scrape_event = add_scrape_event(data, fresh=True)\n",
    "        print(f\"Added Product: {product}\")\n",
    "        print(f\"Added Scrape Event: {scrape_event}\")\n",
    "\n",
    "\n",
    "add_sample_data()"
   ]
  }
 ],
 "metadata": {
  "kernelspec": {
   "display_name": "venv",
   "language": "python",
   "name": "python3"
  },
  "language_info": {
   "codemirror_mode": {
    "name": "ipython",
    "version": 3
   },
   "file_extension": ".py",
   "mimetype": "text/x-python",
   "name": "python",
   "nbconvert_exporter": "python",
   "pygments_lexer": "ipython3",
   "version": "3.12.3"
  }
 },
 "nbformat": 4,
 "nbformat_minor": 2
}
